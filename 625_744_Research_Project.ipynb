{
  "nbformat": 4,
  "nbformat_minor": 0,
  "metadata": {
    "colab": {
      "provenance": [],
      "authorship_tag": "ABX9TyOJ9xO7mdtBK0iOH9Otk0m3",
      "include_colab_link": true
    },
    "kernelspec": {
      "name": "python3",
      "display_name": "Python 3"
    },
    "language_info": {
      "name": "python"
    }
  },
  "cells": [
    {
      "cell_type": "markdown",
      "metadata": {
        "id": "view-in-github",
        "colab_type": "text"
      },
      "source": [
        "<a href=\"https://colab.research.google.com/github/mahimna/625-744-Project/blob/main/625_744_Research_Project.ipynb\" target=\"_parent\"><img src=\"https://colab.research.google.com/assets/colab-badge.svg\" alt=\"Open In Colab\"/></a>"
      ]
    },
    {
      "cell_type": "code",
      "execution_count": null,
      "metadata": {
        "id": "0HmvAvWAm_IH",
        "colab": {
          "base_uri": "https://localhost:8080/"
        },
        "outputId": "8e8839ca-6bd7-40d8-e8d4-23fc43ddbd72"
      },
      "outputs": [
        {
          "output_type": "stream",
          "name": "stdout",
          "text": [
            "Requirement already satisfied: yfinance in /usr/local/lib/python3.10/dist-packages (0.2.32)\n",
            "Requirement already satisfied: pandas>=1.3.0 in /usr/local/lib/python3.10/dist-packages (from yfinance) (1.5.3)\n",
            "Requirement already satisfied: numpy>=1.16.5 in /usr/local/lib/python3.10/dist-packages (from yfinance) (1.23.5)\n",
            "Requirement already satisfied: requests>=2.31 in /usr/local/lib/python3.10/dist-packages (from yfinance) (2.31.0)\n",
            "Requirement already satisfied: multitasking>=0.0.7 in /usr/local/lib/python3.10/dist-packages (from yfinance) (0.0.11)\n",
            "Requirement already satisfied: lxml>=4.9.1 in /usr/local/lib/python3.10/dist-packages (from yfinance) (4.9.3)\n",
            "Requirement already satisfied: appdirs>=1.4.4 in /usr/local/lib/python3.10/dist-packages (from yfinance) (1.4.4)\n",
            "Requirement already satisfied: pytz>=2022.5 in /usr/local/lib/python3.10/dist-packages (from yfinance) (2023.3.post1)\n",
            "Requirement already satisfied: frozendict>=2.3.4 in /usr/local/lib/python3.10/dist-packages (from yfinance) (2.3.10)\n",
            "Requirement already satisfied: peewee>=3.16.2 in /usr/local/lib/python3.10/dist-packages (from yfinance) (3.17.0)\n",
            "Requirement already satisfied: beautifulsoup4>=4.11.1 in /usr/local/lib/python3.10/dist-packages (from yfinance) (4.11.2)\n",
            "Requirement already satisfied: html5lib>=1.1 in /usr/local/lib/python3.10/dist-packages (from yfinance) (1.1)\n",
            "Requirement already satisfied: soupsieve>1.2 in /usr/local/lib/python3.10/dist-packages (from beautifulsoup4>=4.11.1->yfinance) (2.5)\n",
            "Requirement already satisfied: six>=1.9 in /usr/local/lib/python3.10/dist-packages (from html5lib>=1.1->yfinance) (1.16.0)\n",
            "Requirement already satisfied: webencodings in /usr/local/lib/python3.10/dist-packages (from html5lib>=1.1->yfinance) (0.5.1)\n",
            "Requirement already satisfied: python-dateutil>=2.8.1 in /usr/local/lib/python3.10/dist-packages (from pandas>=1.3.0->yfinance) (2.8.2)\n",
            "Requirement already satisfied: charset-normalizer<4,>=2 in /usr/local/lib/python3.10/dist-packages (from requests>=2.31->yfinance) (3.3.2)\n",
            "Requirement already satisfied: idna<4,>=2.5 in /usr/local/lib/python3.10/dist-packages (from requests>=2.31->yfinance) (3.6)\n",
            "Requirement already satisfied: urllib3<3,>=1.21.1 in /usr/local/lib/python3.10/dist-packages (from requests>=2.31->yfinance) (2.0.7)\n",
            "Requirement already satisfied: certifi>=2017.4.17 in /usr/local/lib/python3.10/dist-packages (from requests>=2.31->yfinance) (2023.11.17)\n"
          ]
        }
      ],
      "source": [
        "!pip install yfinance"
      ]
    },
    {
      "cell_type": "code",
      "source": [
        "!pip install --upgrade bokeh==2.4.3"
      ],
      "metadata": {
        "colab": {
          "base_uri": "https://localhost:8080/"
        },
        "id": "5YcAn6m-SIcO",
        "outputId": "9d3764b7-5380-4732-b127-6f4b11819dd6"
      },
      "execution_count": null,
      "outputs": [
        {
          "output_type": "stream",
          "name": "stdout",
          "text": [
            "Collecting bokeh==2.4.3\n",
            "  Downloading bokeh-2.4.3-py3-none-any.whl (18.5 MB)\n",
            "\u001b[2K     \u001b[90m━━━━━━━━━━━━━━━━━━━━━━━━━━━━━━━━━━━━━━━━\u001b[0m \u001b[32m18.5/18.5 MB\u001b[0m \u001b[31m20.7 MB/s\u001b[0m eta \u001b[36m0:00:00\u001b[0m\n",
            "\u001b[?25hRequirement already satisfied: Jinja2>=2.9 in /usr/local/lib/python3.10/dist-packages (from bokeh==2.4.3) (3.1.2)\n",
            "Requirement already satisfied: numpy>=1.11.3 in /usr/local/lib/python3.10/dist-packages (from bokeh==2.4.3) (1.23.5)\n",
            "Requirement already satisfied: packaging>=16.8 in /usr/local/lib/python3.10/dist-packages (from bokeh==2.4.3) (23.2)\n",
            "Requirement already satisfied: pillow>=7.1.0 in /usr/local/lib/python3.10/dist-packages (from bokeh==2.4.3) (9.4.0)\n",
            "Requirement already satisfied: PyYAML>=3.10 in /usr/local/lib/python3.10/dist-packages (from bokeh==2.4.3) (6.0.1)\n",
            "Requirement already satisfied: tornado>=5.1 in /usr/local/lib/python3.10/dist-packages (from bokeh==2.4.3) (6.3.2)\n",
            "Requirement already satisfied: typing-extensions>=3.10.0 in /usr/local/lib/python3.10/dist-packages (from bokeh==2.4.3) (4.5.0)\n",
            "Requirement already satisfied: MarkupSafe>=2.0 in /usr/local/lib/python3.10/dist-packages (from Jinja2>=2.9->bokeh==2.4.3) (2.1.3)\n",
            "Installing collected packages: bokeh\n",
            "  Attempting uninstall: bokeh\n",
            "    Found existing installation: bokeh 3.3.1\n",
            "    Uninstalling bokeh-3.3.1:\n",
            "      Successfully uninstalled bokeh-3.3.1\n",
            "\u001b[31mERROR: pip's dependency resolver does not currently take into account all the packages that are installed. This behaviour is the source of the following dependency conflicts.\n",
            "panel 1.3.4 requires bokeh<3.4.0,>=3.2.0, but you have bokeh 2.4.3 which is incompatible.\u001b[0m\u001b[31m\n",
            "\u001b[0mSuccessfully installed bokeh-2.4.3\n"
          ]
        }
      ]
    },
    {
      "cell_type": "code",
      "source": [
        "!pip install pandas-bokeh"
      ],
      "metadata": {
        "colab": {
          "base_uri": "https://localhost:8080/"
        },
        "id": "7NeWkoqar-fX",
        "outputId": "c1921aef-d3c7-470c-ce05-0753768b043b"
      },
      "execution_count": null,
      "outputs": [
        {
          "output_type": "stream",
          "name": "stdout",
          "text": [
            "Requirement already satisfied: pandas-bokeh in /usr/local/lib/python3.10/dist-packages (0.5.5)\n",
            "Requirement already satisfied: bokeh>=2.0 in /usr/local/lib/python3.10/dist-packages (from pandas-bokeh) (2.4.3)\n",
            "Requirement already satisfied: pandas>=0.22.0 in /usr/local/lib/python3.10/dist-packages (from pandas-bokeh) (1.5.3)\n",
            "Requirement already satisfied: Jinja2>=2.9 in /usr/local/lib/python3.10/dist-packages (from bokeh>=2.0->pandas-bokeh) (3.1.2)\n",
            "Requirement already satisfied: numpy>=1.11.3 in /usr/local/lib/python3.10/dist-packages (from bokeh>=2.0->pandas-bokeh) (1.23.5)\n",
            "Requirement already satisfied: packaging>=16.8 in /usr/local/lib/python3.10/dist-packages (from bokeh>=2.0->pandas-bokeh) (23.2)\n",
            "Requirement already satisfied: pillow>=7.1.0 in /usr/local/lib/python3.10/dist-packages (from bokeh>=2.0->pandas-bokeh) (9.4.0)\n",
            "Requirement already satisfied: PyYAML>=3.10 in /usr/local/lib/python3.10/dist-packages (from bokeh>=2.0->pandas-bokeh) (6.0.1)\n",
            "Requirement already satisfied: tornado>=5.1 in /usr/local/lib/python3.10/dist-packages (from bokeh>=2.0->pandas-bokeh) (6.3.2)\n",
            "Requirement already satisfied: typing-extensions>=3.10.0 in /usr/local/lib/python3.10/dist-packages (from bokeh>=2.0->pandas-bokeh) (4.5.0)\n",
            "Requirement already satisfied: python-dateutil>=2.8.1 in /usr/local/lib/python3.10/dist-packages (from pandas>=0.22.0->pandas-bokeh) (2.8.2)\n",
            "Requirement already satisfied: pytz>=2020.1 in /usr/local/lib/python3.10/dist-packages (from pandas>=0.22.0->pandas-bokeh) (2023.3.post1)\n",
            "Requirement already satisfied: MarkupSafe>=2.0 in /usr/local/lib/python3.10/dist-packages (from Jinja2>=2.9->bokeh>=2.0->pandas-bokeh) (2.1.3)\n",
            "Requirement already satisfied: six>=1.5 in /usr/local/lib/python3.10/dist-packages (from python-dateutil>=2.8.1->pandas>=0.22.0->pandas-bokeh) (1.16.0)\n"
          ]
        }
      ]
    },
    {
      "cell_type": "code",
      "source": [
        "import yfinance as yf\n",
        "import numpy as np\n",
        "import pandas as pd\n",
        "import pandas_bokeh\n",
        "from scipy.stats import norm\n",
        "import scipy.linalg as linalg\n",
        "from datetime import date\n",
        "from bokeh.models import NumeralTickFormatter, FixedTicker\n",
        "from bokeh.plotting import figure, show, output_notebook\n",
        "\n",
        "pandas_bokeh.output_notebook()"
      ],
      "metadata": {
        "id": "Fl4xECLzsIwq"
      },
      "execution_count": null,
      "outputs": []
    },
    {
      "cell_type": "code",
      "source": [
        "def generate_gbm_path(initial_price, drift, volatility, num_steps, T):\n",
        "  prices = []\n",
        "  current_price = initial_price\n",
        "  prices.append(initial_price)\n",
        "  dt = T / num_steps\n",
        "  while(T - dt > 0):\n",
        "    dWt = np.random.normal(0, np.sqrt(dt))\n",
        "    dYt = drift*dt + volatility*dWt\n",
        "    current_price = current_price + current_price*dYt\n",
        "    prices.append(current_price)\n",
        "    T -= dt\n",
        "  return prices"
      ],
      "metadata": {
        "id": "muXYIFl-sMTj"
      },
      "execution_count": null,
      "outputs": []
    },
    {
      "cell_type": "code",
      "source": [
        "def european_simulations(K, paths, r, T):\n",
        "  prices = []\n",
        "  for path in paths:\n",
        "    price = np.exp(-r*T)*max(0, K - path[-1])\n",
        "    prices.append(price)\n",
        "  return np.mean(prices)"
      ],
      "metadata": {
        "id": "kzGodN8-zEkg"
      },
      "execution_count": null,
      "outputs": []
    },
    {
      "cell_type": "code",
      "source": [
        "def american_simulation(S, K, num_steps, paths, r, T):\n",
        "  dt = T/num_steps;\n",
        "  df = np.exp(-r * dt)\n",
        "  exercise_payoff = [[0 for j in range(num_steps+1)] for i in range(paths)]\n",
        "  for i in range(paths):\n",
        "    for j in range(num_steps+1):\n",
        "      exercise_payoff[i][j] = max(0, K-S[i][j])\n",
        "\n",
        "  cf = [[0 for j in range(num_steps+1)] for i in range(paths)]\n",
        "\n",
        "  for i in range(paths):\n",
        "    cf[i][num_steps] = exercise_payoff[i][num_steps]\n",
        "\n",
        "  for j in np.arange(num_steps-1,-1,-1):\n",
        "    x_vals = []\n",
        "    y_vals = []\n",
        "    indices = []\n",
        "    for i in range(paths):\n",
        "      if (K-S[i][j]) > 0:\n",
        "        indices.append(i)\n",
        "        x_vals.append(S[i][j])\n",
        "        y = 0\n",
        "        for k in range(j+1,num_steps+1):\n",
        "          if cf[i][k] > 0:\n",
        "            y = cf[i][k]*np.exp(-dt*r*(k-j))\n",
        "            break\n",
        "        y_vals.append(y)\n",
        "\n",
        "    if len(x_vals) > 0:\n",
        "      poly_fit = np.polyfit(x_vals, y_vals, 2)\n",
        "      poly_fit_evaluted = np.polyval(poly_fit, x_vals)\n",
        "\n",
        "      for i in range(len(x_vals)):\n",
        "        ind = indices[i]\n",
        "        if (K-S[ind][j]) > poly_fit_evaluted[i]:\n",
        "          cf[ind][j] = K-S[ind][j]\n",
        "          for k in range(j+1,num_steps+1):\n",
        "            cf[ind][k] = 0\n",
        "\n",
        "  sum_dcf = 0\n",
        "  for i in range(paths):\n",
        "    for j in range(num_steps+1):\n",
        "      sum_dcf += cf[i][j]*np.exp(-dt*r*j)\n",
        "\n",
        "  return sum_dcf/paths"
      ],
      "metadata": {
        "id": "P2070Nu1sPZq"
      },
      "execution_count": null,
      "outputs": []
    },
    {
      "cell_type": "code",
      "source": [
        "def compute_american_prices_per_expiration(symbol):\n",
        "  equity = yf.Ticker(symbol)\n",
        "  curPrice = (float(equity.info['bid']) + float(equity.info['ask']))/2\n",
        "  # curPrice = float(equity.info['currentPrice'])\n",
        "  S0 = curPrice\n",
        "  r = 0.0526\n",
        "  M = 500\n",
        "\n",
        "  optionInfo = []\n",
        "\n",
        "  todayDate = date.today()\n",
        "\n",
        "  for optionString in equity.options:\n",
        "    splitOptionString = optionString.split('-')\n",
        "    if int(splitOptionString[0]) > 2024:\n",
        "      break\n",
        "    optionChain = equity.option_chain(optionString)\n",
        "    option = optionChain.puts[optionChain.puts['strike'] > curPrice].iloc[0]\n",
        "    maturityDate = date(int(splitOptionString[0]),int(splitOptionString[1]), int(splitOptionString[2]))\n",
        "\n",
        "    if maturityDate <= todayDate:\n",
        "      continue\n",
        "\n",
        "    delta = maturityDate - todayDate\n",
        "    K = option.strike\n",
        "    T = delta.days/365\n",
        "    N = delta.days*10\n",
        "    vol = float(option.impliedVolatility)\n",
        "\n",
        "    price_paths = []\n",
        "\n",
        "    for i in range(1, M):\n",
        "      prices = generate_gbm_path(S0, r, vol, N, T)\n",
        "      price_paths.append(prices)\n",
        "\n",
        "    value = american_simulation(S=price_paths, K=K, paths=i, r=r, T=T, num_steps=N-1)\n",
        "    optionInfo.append((optionString, K, (option.bid+option.ask)/2, value))\n",
        "\n",
        "  return optionInfo"
      ],
      "metadata": {
        "id": "qhfnFxEasMWT"
      },
      "execution_count": null,
      "outputs": []
    },
    {
      "cell_type": "code",
      "source": [
        "def compute_american_prices_per_strike(symbol, optionString):\n",
        "  equity = yf.Ticker(symbol)\n",
        "  curPrice = (float(equity.info['bid']) + float(equity.info['ask']))/2\n",
        "  print(curPrice)\n",
        "  S0 = curPrice\n",
        "  r = 0.0526\n",
        "  M = 500\n",
        "\n",
        "  optionInfo = []\n",
        "\n",
        "  todayDate = date.today()\n",
        "\n",
        "  optionChain = equity.option_chain(optionString)\n",
        "\n",
        "  splitOptionString = optionString.split('-')\n",
        "  maturityDate = date(int(splitOptionString[0]),int(splitOptionString[1]), int(splitOptionString[2]))\n",
        "\n",
        "  delta = maturityDate - todayDate\n",
        "  T = delta.days/365\n",
        "  N = delta.days*10\n",
        "\n",
        "  for i in range(len(optionChain.puts)):\n",
        "\n",
        "    option = optionChain.puts.iloc[i]\n",
        "    print(option)\n",
        "    K = option.strike\n",
        "    vol = float(option.impliedVolatility)\n",
        "\n",
        "    price_paths = []\n",
        "\n",
        "    for i in range(1, M):\n",
        "      prices = generate_gbm_path(S0, r, vol, N, T)\n",
        "      price_paths.append(prices)\n",
        "\n",
        "    value = american_simulation(S=price_paths, K=K, paths=i, r=r, T=T, num_steps=N-1)\n",
        "    optionInfo.append((optionString, K, (option.bid+option.ask)/2, value))\n",
        "\n",
        "  return optionInfo"
      ],
      "metadata": {
        "id": "rmuptVvJcH2m"
      },
      "execution_count": null,
      "outputs": []
    },
    {
      "cell_type": "code",
      "source": [
        "def compute_european_prices_per_expiration(symbol):\n",
        "  equity = yf.Ticker(symbol)\n",
        "  curPrice = (float(equity.info['bid']) + float(equity.info['ask']))/2\n",
        "  # curPrice = 4549.34\n",
        "  S0 = curPrice\n",
        "  r = 0.0526\n",
        "  M = 500\n",
        "\n",
        "  optionInfo = []\n",
        "\n",
        "  todayDate = date.today()\n",
        "\n",
        "  for optionString in equity.options:\n",
        "    splitOptionString = optionString.split('-')\n",
        "    if int(splitOptionString[0]) > 2024:\n",
        "      break\n",
        "    optionChain = equity.option_chain(optionString)\n",
        "    option = optionChain.puts[optionChain.puts['strike'] > curPrice].iloc[0]\n",
        "    maturityDate = date(int(splitOptionString[0]),int(splitOptionString[1]), int(splitOptionString[2]))\n",
        "\n",
        "    if maturityDate <= todayDate:\n",
        "      continue\n",
        "\n",
        "    delta = maturityDate - todayDate\n",
        "    K = option.strike\n",
        "    T = delta.days/365\n",
        "    N = delta.days*40\n",
        "    vol = float(option.impliedVolatility)\n",
        "\n",
        "    price_paths = []\n",
        "\n",
        "    for i in range(1, M):\n",
        "      prices = generate_gbm_path(S0, r, vol, N, T)\n",
        "      price_paths.append(prices)\n",
        "\n",
        "    value = european_simulations(K=K, paths=price_paths, r=r, T=T)\n",
        "    optionInfo.append((optionString, K, (option.bid+option.ask)/2, value))\n",
        "\n",
        "  return optionInfo"
      ],
      "metadata": {
        "id": "b__4Ph1Szujs"
      },
      "execution_count": null,
      "outputs": []
    },
    {
      "cell_type": "code",
      "source": [
        "def compute_european_prices_per_strike(symbol, optionString):\n",
        "  equity = yf.Ticker(symbol)\n",
        "  curPrice = (float(equity.info['bid']) + float(equity.info['ask']))/2\n",
        "  print(curPrice)\n",
        "  S0 = curPrice\n",
        "  r = 0.0526\n",
        "  M = 500\n",
        "\n",
        "  optionInfo = []\n",
        "\n",
        "  todayDate = date.today()\n",
        "\n",
        "  optionChain = equity.option_chain(optionString)\n",
        "\n",
        "  splitOptionString = optionString.split('-')\n",
        "  maturityDate = date(int(splitOptionString[0]),int(splitOptionString[1]), int(splitOptionString[2]))\n",
        "\n",
        "  delta = maturityDate - todayDate\n",
        "  T = delta.days/365\n",
        "  N = delta.days*10\n",
        "\n",
        "  for i in range(len(optionChain.puts)):\n",
        "\n",
        "    option = optionChain.puts.iloc[i]\n",
        "    print(option)\n",
        "\n",
        "    K = option.strike\n",
        "    vol = float(option.impliedVolatility)\n",
        "\n",
        "    price_paths = []\n",
        "\n",
        "    for i in range(1, M):\n",
        "      prices = generate_gbm_path(S0, r, vol, N, T)\n",
        "      price_paths.append(prices)\n",
        "\n",
        "    value = european_simulations(K=K, paths=price_paths, r=r, T=T)\n",
        "    optionInfo.append((optionString, K, (option.bid+option.ask)/2, value))\n",
        "\n",
        "  return optionInfo"
      ],
      "metadata": {
        "id": "wZ3OK7ngc2uJ"
      },
      "execution_count": null,
      "outputs": []
    },
    {
      "cell_type": "code",
      "source": [
        "optionInfoAmzn = compute_american_prices_per_expiration('AMZN')"
      ],
      "metadata": {
        "colab": {
          "base_uri": "https://localhost:8080/"
        },
        "id": "UxorrgVixBGB",
        "outputId": "f800d7cf-cce1-44e7-bc49-4a6a18b27656"
      },
      "execution_count": null,
      "outputs": [
        {
          "output_type": "stream",
          "name": "stderr",
          "text": [
            "<ipython-input-116-955cd90785c7>:36: RankWarning: Polyfit may be poorly conditioned\n",
            "  value = american_simulation(S=price_paths, K=K, paths=i, r=r, T=T, num_steps=N-1)\n",
            "<ipython-input-116-955cd90785c7>:36: RankWarning: Polyfit may be poorly conditioned\n",
            "  value = american_simulation(S=price_paths, K=K, paths=i, r=r, T=T, num_steps=N-1)\n",
            "<ipython-input-116-955cd90785c7>:36: RankWarning: Polyfit may be poorly conditioned\n",
            "  value = american_simulation(S=price_paths, K=K, paths=i, r=r, T=T, num_steps=N-1)\n",
            "<ipython-input-116-955cd90785c7>:36: RankWarning: Polyfit may be poorly conditioned\n",
            "  value = american_simulation(S=price_paths, K=K, paths=i, r=r, T=T, num_steps=N-1)\n",
            "<ipython-input-116-955cd90785c7>:36: RankWarning: Polyfit may be poorly conditioned\n",
            "  value = american_simulation(S=price_paths, K=K, paths=i, r=r, T=T, num_steps=N-1)\n",
            "<ipython-input-116-955cd90785c7>:36: RankWarning: Polyfit may be poorly conditioned\n",
            "  value = american_simulation(S=price_paths, K=K, paths=i, r=r, T=T, num_steps=N-1)\n",
            "<ipython-input-116-955cd90785c7>:36: RankWarning: Polyfit may be poorly conditioned\n",
            "  value = american_simulation(S=price_paths, K=K, paths=i, r=r, T=T, num_steps=N-1)\n",
            "<ipython-input-116-955cd90785c7>:36: RankWarning: Polyfit may be poorly conditioned\n",
            "  value = american_simulation(S=price_paths, K=K, paths=i, r=r, T=T, num_steps=N-1)\n",
            "<ipython-input-116-955cd90785c7>:36: RankWarning: Polyfit may be poorly conditioned\n",
            "  value = american_simulation(S=price_paths, K=K, paths=i, r=r, T=T, num_steps=N-1)\n",
            "<ipython-input-116-955cd90785c7>:36: RankWarning: Polyfit may be poorly conditioned\n",
            "  value = american_simulation(S=price_paths, K=K, paths=i, r=r, T=T, num_steps=N-1)\n",
            "<ipython-input-116-955cd90785c7>:36: RankWarning: Polyfit may be poorly conditioned\n",
            "  value = american_simulation(S=price_paths, K=K, paths=i, r=r, T=T, num_steps=N-1)\n",
            "<ipython-input-116-955cd90785c7>:36: RankWarning: Polyfit may be poorly conditioned\n",
            "  value = american_simulation(S=price_paths, K=K, paths=i, r=r, T=T, num_steps=N-1)\n",
            "<ipython-input-116-955cd90785c7>:36: RankWarning: Polyfit may be poorly conditioned\n",
            "  value = american_simulation(S=price_paths, K=K, paths=i, r=r, T=T, num_steps=N-1)\n"
          ]
        }
      ]
    },
    {
      "cell_type": "code",
      "source": [
        "optionInfoSPX = compute_european_prices_per_expiration('^SPX')"
      ],
      "metadata": {
        "id": "6X8JZFMSpW6u"
      },
      "execution_count": null,
      "outputs": []
    },
    {
      "cell_type": "code",
      "source": [
        "optionInfoAmzn"
      ],
      "metadata": {
        "id": "AvS7HKO3gSMk",
        "colab": {
          "base_uri": "https://localhost:8080/"
        },
        "outputId": "7d8c4959-f8ae-4473-c42c-76ee6e604b39"
      },
      "execution_count": null,
      "outputs": [
        {
          "output_type": "execute_result",
          "data": {
            "text/plain": [
              "[('2023-12-08', 145.0, 1.455, 1.2870225553123238),\n",
              " ('2023-12-15', 145.0, 2.525, 2.761675616542522),\n",
              " ('2023-12-22', 145.0, 3.0999999999999996, 3.0592891561981634),\n",
              " ('2023-12-29', 145.0, 3.5250000000000004, 3.3943014347240807),\n",
              " ('2024-01-05', 145.0, 4.0, 3.848462834051642),\n",
              " ('2024-01-12', 145.0, 4.550000000000001, 4.6916207336342195),\n",
              " ('2024-01-19', 145.0, 4.925000000000001, 4.5006354477224475),\n",
              " ('2024-02-16', 145.0, 7.65, 7.375767993810344),\n",
              " ('2024-03-15', 145.0, 8.55, 8.72780371534493),\n",
              " ('2024-04-19', 145.0, 9.524999999999999, 7.794395391400903),\n",
              " ('2024-06-21', 145.0, 11.875, 10.512638117963933),\n",
              " ('2024-07-19', 145.0, 12.325, 9.421994904779364),\n",
              " ('2024-09-20', 145.0, 14.025, 11.914724834381676)]"
            ]
          },
          "metadata": {},
          "execution_count": 120
        }
      ]
    },
    {
      "cell_type": "code",
      "source": [
        "dates = [tp[0] for tp in optionInfoAmzn]\n",
        "lastPrice = [tp[2] for tp in optionInfoAmzn]\n",
        "simulationPrice = [tp[3] for tp in optionInfoAmzn]\n",
        "error = [abs(tp[2]-tp[3]) for tp in optionInfoAmzn]"
      ],
      "metadata": {
        "id": "J58987StXdoJ"
      },
      "execution_count": null,
      "outputs": []
    },
    {
      "cell_type": "code",
      "source": [
        "amzn_data = pd.DataFrame(\n",
        "    {'dates': dates,\n",
        "     'lastPrice': lastPrice,\n",
        "     'simulationPrice': simulationPrice,\n",
        "     'abs_error': error\n",
        "    });"
      ],
      "metadata": {
        "id": "6XKyqOWhYUeG"
      },
      "execution_count": null,
      "outputs": []
    },
    {
      "cell_type": "code",
      "source": [
        "amzn_data.plot.line(x='dates',rot=90)"
      ],
      "metadata": {
        "colab": {
          "base_uri": "https://localhost:8080/",
          "height": 534
        },
        "id": "jfDqI_txYjAU",
        "outputId": "b166a0b2-3dfd-4718-db02-1d70669c7959"
      },
      "execution_count": null,
      "outputs": [
        {
          "output_type": "execute_result",
          "data": {
            "text/plain": [
              "<Axes: xlabel='dates'>"
            ]
          },
          "metadata": {},
          "execution_count": 190
        },
        {
          "output_type": "display_data",
          "data": {
            "text/plain": [
              "<Figure size 640x480 with 1 Axes>"
            ],
            "image/png": "[encoded data removed]"
          },
          "metadata": {}
        }
      ]
    },
    {
      "cell_type": "code",
      "source": [
        "optionInfoSPX"
      ],
      "metadata": {
        "colab": {
          "base_uri": "https://localhost:8080/"
        },
        "id": "uQvc1givay8Y",
        "outputId": "725e6747-969c-48b1-f31a-1e7f1c67bce1"
      },
      "execution_count": null,
      "outputs": [
        {
          "output_type": "execute_result",
          "data": {
            "text/plain": [
              "[('2023-12-07', 4550.0, 9.0, 6.594184059599589),\n",
              " ('2023-12-08', 4550.0, 16.65, 13.996940811577495),\n",
              " ('2023-12-11', 4550.0, 19.65, 17.067597798347457),\n",
              " ('2023-12-12', 4550.0, 24.0, 20.672798898117616),\n",
              " ('2023-12-13', 4550.0, 28.85, 25.37112383892921),\n",
              " ('2023-12-14', 4550.0, 30.85, 31.14243637214746),\n",
              " ('2023-12-15', 4550.0, 31.45, 29.41600951264022),\n",
              " ('2023-12-18', 4550.0, 34.400000000000006, 30.112305215840465),\n",
              " ('2023-12-19', 4550.0, 35.7, 29.939505997451597),\n",
              " ('2023-12-20', 4550.0, 37.2, 29.529222414438973),\n",
              " ('2023-12-21', 4550.0, 37.7, 35.66592159747494),\n",
              " ('2023-12-22', 4550.0, 39.0, 33.19535273979186),\n",
              " ('2023-12-26', 4550.0, 40.400000000000006, 38.160890682890894),\n",
              " ('2023-12-27', 4550.0, 41.75, 34.01799191505365),\n",
              " ('2023-12-28', 4550.0, 42.099999999999994, 33.66608983658361),\n",
              " ('2023-12-29', 4550.0, 43.55, 33.742483367215435),\n",
              " ('2024-01-02', 4550.0, 45.25, 40.42362822945682),\n",
              " ('2024-01-03', 4550.0, 46.7, 39.238283464751284),\n",
              " ('2024-01-04', 4550.0, 47.75, 38.63508749685528),\n",
              " ('2024-01-05', 4550.0, 49.85, 38.686301467324036),\n",
              " ('2024-01-08', 4550.0, 51.4, 45.55872944009604),\n",
              " ('2024-01-09', 4550.0, 52.95, 40.24332086179156),\n",
              " ('2024-01-12', 4550.0, 56.8, 43.94690430636545),\n",
              " ('2024-01-19', 4550.0, 61.900000000000006, 51.10015984954846),\n",
              " ('2024-01-22', 4550.0, 63.2, 48.40240880341286),\n",
              " ('2024-01-26', 4550.0, 66.85, 44.89578772731765),\n",
              " ('2024-01-29', 4550.0, 68.2, 52.7646860318924),\n",
              " ('2024-01-31', 4550.0, 71.1, 53.909745061488614),\n",
              " ('2024-02-16', 4550.0, 82.85, 63.38128740576263),\n",
              " ('2024-02-29', 4550.0, 90.5, 66.63360359334064),\n",
              " ('2024-03-15', 4550.0, 99.85, 61.72684061136233),\n",
              " ('2024-03-28', 4550.0, 107.4, 79.54845942651234),\n",
              " ('2024-04-19', 4550.0, 118.4, 72.99785651562526),\n",
              " ('2024-04-30', 4550.0, 123.4, 67.22817421843072),\n",
              " ('2024-05-17', 4550.0, 132.75, 91.3134876167983),\n",
              " ('2024-05-31', 4590.0, 151.75, 85.95925436444055),\n",
              " ('2024-06-21', 4550.0, 148.4, 101.69281606423513),\n",
              " ('2024-06-28', 4550.0, 151.95, 99.637935910063),\n",
              " ('2024-07-19', 4550.0, 160.25, 105.47908591134885),\n",
              " ('2024-08-16', 4550.0, 172.45, 103.97023072535765),\n",
              " ('2024-09-20', 4550.0, 185.5, 108.56735236440383),\n",
              " ('2024-09-30', 4550.0, 189.0, 102.3850735739753),\n",
              " ('2024-10-18', 4550.0, 195.2, 106.30275187841336),\n",
              " ('2024-11-15', 4550.0, 209.05, 112.99538281399272),\n",
              " ('2024-12-20', 4550.0, 219.7, 131.0636080294221)]"
            ]
          },
          "metadata": {},
          "execution_count": 135
        }
      ]
    },
    {
      "cell_type": "code",
      "source": [
        "dates = [tp[0] for tp in optionInfoSPX]\n",
        "lastPrice = [tp[2] for tp in optionInfoSPX]\n",
        "simulationPrice = [tp[3] for tp in optionInfoSPX]\n",
        "error = [abs(tp[2]-tp[3]) for tp in optionInfoSPX]"
      ],
      "metadata": {
        "id": "wDQyi7npYpgL"
      },
      "execution_count": null,
      "outputs": []
    },
    {
      "cell_type": "code",
      "source": [
        "spx_data = pd.DataFrame(\n",
        "    {'dates': dates,\n",
        "     'lastPrice': lastPrice,\n",
        "     'simulationPrice': simulationPrice,\n",
        "     'abs_error': error\n",
        "    });"
      ],
      "metadata": {
        "id": "XXOAtumnatF-"
      },
      "execution_count": null,
      "outputs": []
    },
    {
      "cell_type": "code",
      "source": [
        "spx_data.plot.line(x='dates',rot=90)"
      ],
      "metadata": {
        "colab": {
          "base_uri": "https://localhost:8080/",
          "height": 533
        },
        "id": "NxUJmS1mavSl",
        "outputId": "29b42ba3-4fb8-4862-95c7-771de6c927b2"
      },
      "execution_count": null,
      "outputs": [
        {
          "output_type": "execute_result",
          "data": {
            "text/plain": [
              "<Axes: xlabel='dates'>"
            ]
          },
          "metadata": {},
          "execution_count": 194
        },
        {
          "output_type": "display_data",
          "data": {
            "text/plain": [
              "<Figure size 640x480 with 1 Axes>"
            ],
            "image/png": "[encoded data removed]"
          },
          "metadata": {}
        }
      ]
    },
    {
      "cell_type": "code",
      "source": [
        "spx_data"
      ],
      "metadata": {
        "colab": {
          "base_uri": "https://localhost:8080/",
          "height": 1000
        },
        "id": "jbPLdMbUbWUH",
        "outputId": "67d0b15f-9eb1-43f0-85b9-08b2e83debc8"
      },
      "execution_count": null,
      "outputs": [
        {
          "output_type": "execute_result",
          "data": {
            "text/plain": [
              "         dates  lastPrice  simulationPrice  abs_error\n",
              "0   2023-12-07       9.00         6.594184   2.405816\n",
              "1   2023-12-08      16.65        13.996941   2.653059\n",
              "2   2023-12-11      19.65        17.067598   2.582402\n",
              "3   2023-12-12      24.00        20.672799   3.327201\n",
              "4   2023-12-13      28.85        25.371124   3.478876\n",
              "5   2023-12-14      30.85        31.142436   0.292436\n",
              "6   2023-12-15      31.45        29.416010   2.033990\n",
              "7   2023-12-18      34.40        30.112305   4.287695\n",
              "8   2023-12-19      35.70        29.939506   5.760494\n",
              "9   2023-12-20      37.20        29.529222   7.670778\n",
              "10  2023-12-21      37.70        35.665922   2.034078\n",
              "11  2023-12-22      39.00        33.195353   5.804647\n",
              "12  2023-12-26      40.40        38.160891   2.239109\n",
              "13  2023-12-27      41.75        34.017992   7.732008\n",
              "14  2023-12-28      42.10        33.666090   8.433910\n",
              "15  2023-12-29      43.55        33.742483   9.807517\n",
              "16  2024-01-02      45.25        40.423628   4.826372\n",
              "17  2024-01-03      46.70        39.238283   7.461717\n",
              "18  2024-01-04      47.75        38.635087   9.114913\n",
              "19  2024-01-05      49.85        38.686301  11.163699\n",
              "20  2024-01-08      51.40        45.558729   5.841271\n",
              "21  2024-01-09      52.95        40.243321  12.706679\n",
              "22  2024-01-12      56.80        43.946904  12.853096\n",
              "23  2024-01-19      61.90        51.100160  10.799840\n",
              "24  2024-01-22      63.20        48.402409  14.797591\n",
              "25  2024-01-26      66.85        44.895788  21.954212\n",
              "26  2024-01-29      68.20        52.764686  15.435314\n",
              "27  2024-01-31      71.10        53.909745  17.190255\n",
              "28  2024-02-16      82.85        63.381287  19.468713\n",
              "29  2024-02-29      90.50        66.633604  23.866396\n",
              "30  2024-03-15      99.85        61.726841  38.123159\n",
              "31  2024-03-28     107.40        79.548459  27.851541\n",
              "32  2024-04-19     118.40        72.997857  45.402143\n",
              "33  2024-04-30     123.40        67.228174  56.171826\n",
              "34  2024-05-17     132.75        91.313488  41.436512\n",
              "35  2024-05-31     151.75        85.959254  65.790746\n",
              "36  2024-06-21     148.40       101.692816  46.707184\n",
              "37  2024-06-28     151.95        99.637936  52.312064\n",
              "38  2024-07-19     160.25       105.479086  54.770914\n",
              "39  2024-08-16     172.45       103.970231  68.479769\n",
              "40  2024-09-20     185.50       108.567352  76.932648\n",
              "41  2024-09-30     189.00       102.385074  86.614926\n",
              "42  2024-10-18     195.20       106.302752  88.897248\n",
              "43  2024-11-15     209.05       112.995383  96.054617\n",
              "44  2024-12-20     219.70       131.063608  88.636392"
            ],
            "text/html": [
              "\n",
              "  <div id=\"df-2c21d288-0c63-4d06-b7c1-58cf05a55127\" class=\"colab-df-container\">\n",
              "    <div>\n",
              "<style scoped>\n",
              "    .dataframe tbody tr th:only-of-type {\n",
              "        vertical-align: middle;\n",
              "    }\n",
              "\n",
              "    .dataframe tbody tr th {\n",
              "        vertical-align: top;\n",
              "    }\n",
              "\n",
              "    .dataframe thead th {\n",
              "        text-align: right;\n",
              "    }\n",
              "</style>\n",
              "<table border=\"1\" class=\"dataframe\">\n",
              "  <thead>\n",
              "    <tr style=\"text-align: right;\">\n",
              "      <th></th>\n",
              "      <th>dates</th>\n",
              "      <th>lastPrice</th>\n",
              "      <th>simulationPrice</th>\n",
              "      <th>abs_error</th>\n",
              "    </tr>\n",
              "  </thead>\n",
              "  <tbody>\n",
              "    <tr>\n",
              "      <th>0</th>\n",
              "      <td>2023-12-07</td>\n",
              "      <td>9.00</td>\n",
              "      <td>6.594184</td>\n",
              "      <td>2.405816</td>\n",
              "    </tr>\n",
              "    <tr>\n",
              "      <th>1</th>\n",
              "      <td>2023-12-08</td>\n",
              "      <td>16.65</td>\n",
              "      <td>13.996941</td>\n",
              "      <td>2.653059</td>\n",
              "    </tr>\n",
              "    <tr>\n",
              "      <th>2</th>\n",
              "      <td>2023-12-11</td>\n",
              "      <td>19.65</td>\n",
              "      <td>17.067598</td>\n",
              "      <td>2.582402</td>\n",
              "    </tr>\n",
              "    <tr>\n",
              "      <th>3</th>\n",
              "      <td>2023-12-12</td>\n",
              "      <td>24.00</td>\n",
              "      <td>20.672799</td>\n",
              "      <td>3.327201</td>\n",
              "    </tr>\n",
              "    <tr>\n",
              "      <th>4</th>\n",
              "      <td>2023-12-13</td>\n",
              "      <td>28.85</td>\n",
              "      <td>25.371124</td>\n",
              "      <td>3.478876</td>\n",
              "    </tr>\n",
              "    <tr>\n",
              "      <th>5</th>\n",
              "      <td>2023-12-14</td>\n",
              "      <td>30.85</td>\n",
              "      <td>31.142436</td>\n",
              "      <td>0.292436</td>\n",
              "    </tr>\n",
              "    <tr>\n",
              "      <th>6</th>\n",
              "      <td>2023-12-15</td>\n",
              "      <td>31.45</td>\n",
              "      <td>29.416010</td>\n",
              "      <td>2.033990</td>\n",
              "    </tr>\n",
              "    <tr>\n",
              "      <th>7</th>\n",
              "      <td>2023-12-18</td>\n",
              "      <td>34.40</td>\n",
              "      <td>30.112305</td>\n",
              "      <td>4.287695</td>\n",
              "    </tr>\n",
              "    <tr>\n",
              "      <th>8</th>\n",
              "      <td>2023-12-19</td>\n",
              "      <td>35.70</td>\n",
              "      <td>29.939506</td>\n",
              "      <td>5.760494</td>\n",
              "    </tr>\n",
              "    <tr>\n",
              "      <th>9</th>\n",
              "      <td>2023-12-20</td>\n",
              "      <td>37.20</td>\n",
              "      <td>29.529222</td>\n",
              "      <td>7.670778</td>\n",
              "    </tr>\n",
              "    <tr>\n",
              "      <th>10</th>\n",
              "      <td>2023-12-21</td>\n",
              "      <td>37.70</td>\n",
              "      <td>35.665922</td>\n",
              "      <td>2.034078</td>\n",
              "    </tr>\n",
              "    <tr>\n",
              "      <th>11</th>\n",
              "      <td>2023-12-22</td>\n",
              "      <td>39.00</td>\n",
              "      <td>33.195353</td>\n",
              "      <td>5.804647</td>\n",
              "    </tr>\n",
              "    <tr>\n",
              "      <th>12</th>\n",
              "      <td>2023-12-26</td>\n",
              "      <td>40.40</td>\n",
              "      <td>38.160891</td>\n",
              "      <td>2.239109</td>\n",
              "    </tr>\n",
              "    <tr>\n",
              "      <th>13</th>\n",
              "      <td>2023-12-27</td>\n",
              "      <td>41.75</td>\n",
              "      <td>34.017992</td>\n",
              "      <td>7.732008</td>\n",
              "    </tr>\n",
              "    <tr>\n",
              "      <th>14</th>\n",
              "      <td>2023-12-28</td>\n",
              "      <td>42.10</td>\n",
              "      <td>33.666090</td>\n",
              "      <td>8.433910</td>\n",
              "    </tr>\n",
              "    <tr>\n",
              "      <th>15</th>\n",
              "      <td>2023-12-29</td>\n",
              "      <td>43.55</td>\n",
              "      <td>33.742483</td>\n",
              "      <td>9.807517</td>\n",
              "    </tr>\n",
              "    <tr>\n",
              "      <th>16</th>\n",
              "      <td>2024-01-02</td>\n",
              "      <td>45.25</td>\n",
              "      <td>40.423628</td>\n",
              "      <td>4.826372</td>\n",
              "    </tr>\n",
              "    <tr>\n",
              "      <th>17</th>\n",
              "      <td>2024-01-03</td>\n",
              "      <td>46.70</td>\n",
              "      <td>39.238283</td>\n",
              "      <td>7.461717</td>\n",
              "    </tr>\n",
              "    <tr>\n",
              "      <th>18</th>\n",
              "      <td>2024-01-04</td>\n",
              "      <td>47.75</td>\n",
              "      <td>38.635087</td>\n",
              "      <td>9.114913</td>\n",
              "    </tr>\n",
              "    <tr>\n",
              "      <th>19</th>\n",
              "      <td>2024-01-05</td>\n",
              "      <td>49.85</td>\n",
              "      <td>38.686301</td>\n",
              "      <td>11.163699</td>\n",
              "    </tr>\n",
              "    <tr>\n",
              "      <th>20</th>\n",
              "      <td>2024-01-08</td>\n",
              "      <td>51.40</td>\n",
              "      <td>45.558729</td>\n",
              "      <td>5.841271</td>\n",
              "    </tr>\n",
              "    <tr>\n",
              "      <th>21</th>\n",
              "      <td>2024-01-09</td>\n",
              "      <td>52.95</td>\n",
              "      <td>40.243321</td>\n",
              "      <td>12.706679</td>\n",
              "    </tr>\n",
              "    <tr>\n",
              "      <th>22</th>\n",
              "      <td>2024-01-12</td>\n",
              "      <td>56.80</td>\n",
              "      <td>43.946904</td>\n",
              "      <td>12.853096</td>\n",
              "    </tr>\n",
              "    <tr>\n",
              "      <th>23</th>\n",
              "      <td>2024-01-19</td>\n",
              "      <td>61.90</td>\n",
              "      <td>51.100160</td>\n",
              "      <td>10.799840</td>\n",
              "    </tr>\n",
              "    <tr>\n",
              "      <th>24</th>\n",
              "      <td>2024-01-22</td>\n",
              "      <td>63.20</td>\n",
              "      <td>48.402409</td>\n",
              "      <td>14.797591</td>\n",
              "    </tr>\n",
              "    <tr>\n",
              "      <th>25</th>\n",
              "      <td>2024-01-26</td>\n",
              "      <td>66.85</td>\n",
              "      <td>44.895788</td>\n",
              "      <td>21.954212</td>\n",
              "    </tr>\n",
              "    <tr>\n",
              "      <th>26</th>\n",
              "      <td>2024-01-29</td>\n",
              "      <td>68.20</td>\n",
              "      <td>52.764686</td>\n",
              "      <td>15.435314</td>\n",
              "    </tr>\n",
              "    <tr>\n",
              "      <th>27</th>\n",
              "      <td>2024-01-31</td>\n",
              "      <td>71.10</td>\n",
              "      <td>53.909745</td>\n",
              "      <td>17.190255</td>\n",
              "    </tr>\n",
              "    <tr>\n",
              "      <th>28</th>\n",
              "      <td>2024-02-16</td>\n",
              "      <td>82.85</td>\n",
              "      <td>63.381287</td>\n",
              "      <td>19.468713</td>\n",
              "    </tr>\n",
              "    <tr>\n",
              "      <th>29</th>\n",
              "      <td>2024-02-29</td>\n",
              "      <td>90.50</td>\n",
              "      <td>66.633604</td>\n",
              "      <td>23.866396</td>\n",
              "    </tr>\n",
              "    <tr>\n",
              "      <th>30</th>\n",
              "      <td>2024-03-15</td>\n",
              "      <td>99.85</td>\n",
              "      <td>61.726841</td>\n",
              "      <td>38.123159</td>\n",
              "    </tr>\n",
              "    <tr>\n",
              "      <th>31</th>\n",
              "      <td>2024-03-28</td>\n",
              "      <td>107.40</td>\n",
              "      <td>79.548459</td>\n",
              "      <td>27.851541</td>\n",
              "    </tr>\n",
              "    <tr>\n",
              "      <th>32</th>\n",
              "      <td>2024-04-19</td>\n",
              "      <td>118.40</td>\n",
              "      <td>72.997857</td>\n",
              "      <td>45.402143</td>\n",
              "    </tr>\n",
              "    <tr>\n",
              "      <th>33</th>\n",
              "      <td>2024-04-30</td>\n",
              "      <td>123.40</td>\n",
              "      <td>67.228174</td>\n",
              "      <td>56.171826</td>\n",
              "    </tr>\n",
              "    <tr>\n",
              "      <th>34</th>\n",
              "      <td>2024-05-17</td>\n",
              "      <td>132.75</td>\n",
              "      <td>91.313488</td>\n",
              "      <td>41.436512</td>\n",
              "    </tr>\n",
              "    <tr>\n",
              "      <th>35</th>\n",
              "      <td>2024-05-31</td>\n",
              "      <td>151.75</td>\n",
              "      <td>85.959254</td>\n",
              "      <td>65.790746</td>\n",
              "    </tr>\n",
              "    <tr>\n",
              "      <th>36</th>\n",
              "      <td>2024-06-21</td>\n",
              "      <td>148.40</td>\n",
              "      <td>101.692816</td>\n",
              "      <td>46.707184</td>\n",
              "    </tr>\n",
              "    <tr>\n",
              "      <th>37</th>\n",
              "      <td>2024-06-28</td>\n",
              "      <td>151.95</td>\n",
              "      <td>99.637936</td>\n",
              "      <td>52.312064</td>\n",
              "    </tr>\n",
              "    <tr>\n",
              "      <th>38</th>\n",
              "      <td>2024-07-19</td>\n",
              "      <td>160.25</td>\n",
              "      <td>105.479086</td>\n",
              "      <td>54.770914</td>\n",
              "    </tr>\n",
              "    <tr>\n",
              "      <th>39</th>\n",
              "      <td>2024-08-16</td>\n",
              "      <td>172.45</td>\n",
              "      <td>103.970231</td>\n",
              "      <td>68.479769</td>\n",
              "    </tr>\n",
              "    <tr>\n",
              "      <th>40</th>\n",
              "      <td>2024-09-20</td>\n",
              "      <td>185.50</td>\n",
              "      <td>108.567352</td>\n",
              "      <td>76.932648</td>\n",
              "    </tr>\n",
              "    <tr>\n",
              "      <th>41</th>\n",
              "      <td>2024-09-30</td>\n",
              "      <td>189.00</td>\n",
              "      <td>102.385074</td>\n",
              "      <td>86.614926</td>\n",
              "    </tr>\n",
              "    <tr>\n",
              "      <th>42</th>\n",
              "      <td>2024-10-18</td>\n",
              "      <td>195.20</td>\n",
              "      <td>106.302752</td>\n",
              "      <td>88.897248</td>\n",
              "    </tr>\n",
              "    <tr>\n",
              "      <th>43</th>\n",
              "      <td>2024-11-15</td>\n",
              "      <td>209.05</td>\n",
              "      <td>112.995383</td>\n",
              "      <td>96.054617</td>\n",
              "    </tr>\n",
              "    <tr>\n",
              "      <th>44</th>\n",
              "      <td>2024-12-20</td>\n",
              "      <td>219.70</td>\n",
              "      <td>131.063608</td>\n",
              "      <td>88.636392</td>\n",
              "    </tr>\n",
              "  </tbody>\n",
              "</table>\n",
              "</div>\n",
              "    <div class=\"colab-df-buttons\">\n",
              "\n",
              "  <div class=\"colab-df-container\">\n",
              "    <button class=\"colab-df-convert\" onclick=\"convertToInteractive('df-2c21d288-0c63-4d06-b7c1-58cf05a55127')\"\n",
              "            title=\"Convert this dataframe to an interactive table.\"\n",
              "            style=\"display:none;\">\n",
              "\n",
              "  <svg xmlns=\"http://www.w3.org/2000/svg\" height=\"24px\" viewBox=\"0 -960 960 960\">\n",
              "    <path d=\"M120-120v-720h720v720H120Zm60-500h600v-160H180v160Zm220 220h160v-160H400v160Zm0 220h160v-160H400v160ZM180-400h160v-160H180v160Zm440 0h160v-160H620v160ZM180-180h160v-160H180v160Zm440 0h160v-160H620v160Z\"/>\n",
              "  </svg>\n",
              "    </button>\n",
              "\n",
              "  <style>\n",
              "    .colab-df-container {\n",
              "      display:flex;\n",
              "      gap: 12px;\n",
              "    }\n",
              "\n",
              "    .colab-df-convert {\n",
              "      background-color: #E8F0FE;\n",
              "      border: none;\n",
              "      border-radius: 50%;\n",
              "      cursor: pointer;\n",
              "      display: none;\n",
              "      fill: #1967D2;\n",
              "      height: 32px;\n",
              "      padding: 0 0 0 0;\n",
              "      width: 32px;\n",
              "    }\n",
              "\n",
              "    .colab-df-convert:hover {\n",
              "      background-color: #E2EBFA;\n",
              "      box-shadow: 0px 1px 2px rgba(60, 64, 67, 0.3), 0px 1px 3px 1px rgba(60, 64, 67, 0.15);\n",
              "      fill: #174EA6;\n",
              "    }\n",
              "\n",
              "    .colab-df-buttons div {\n",
              "      margin-bottom: 4px;\n",
              "    }\n",
              "\n",
              "    [theme=dark] .colab-df-convert {\n",
              "      background-color: #3B4455;\n",
              "      fill: #D2E3FC;\n",
              "    }\n",
              "\n",
              "    [theme=dark] .colab-df-convert:hover {\n",
              "      background-color: #434B5C;\n",
              "      box-shadow: 0px 1px 3px 1px rgba(0, 0, 0, 0.15);\n",
              "      filter: drop-shadow(0px 1px 2px rgba(0, 0, 0, 0.3));\n",
              "      fill: #FFFFFF;\n",
              "    }\n",
              "  </style>\n",
              "\n",
              "    <script>\n",
              "      const buttonEl =\n",
              "        document.querySelector('#df-2c21d288-0c63-4d06-b7c1-58cf05a55127 button.colab-df-convert');\n",
              "      buttonEl.style.display =\n",
              "        google.colab.kernel.accessAllowed ? 'block' : 'none';\n",
              "\n",
              "      async function convertToInteractive(key) {\n",
              "        const element = document.querySelector('#df-2c21d288-0c63-4d06-b7c1-58cf05a55127');\n",
              "        const dataTable =\n",
              "          await google.colab.kernel.invokeFunction('convertToInteractive',\n",
              "                                                    [key], {});\n",
              "        if (!dataTable) return;\n",
              "\n",
              "        const docLinkHtml = 'Like what you see? Visit the ' +\n",
              "          '<a target=\"_blank\" href=https://colab.research.google.com/notebooks/data_table.ipynb>data table notebook</a>'\n",
              "          + ' to learn more about interactive tables.';\n",
              "        element.innerHTML = '';\n",
              "        dataTable['output_type'] = 'display_data';\n",
              "        await google.colab.output.renderOutput(dataTable, element);\n",
              "        const docLink = document.createElement('div');\n",
              "        docLink.innerHTML = docLinkHtml;\n",
              "        element.appendChild(docLink);\n",
              "      }\n",
              "    </script>\n",
              "  </div>\n",
              "\n",
              "\n",
              "<div id=\"df-d3d46dd4-e5f9-493e-8239-02d314d99d78\">\n",
              "  <button class=\"colab-df-quickchart\" onclick=\"quickchart('df-d3d46dd4-e5f9-493e-8239-02d314d99d78')\"\n",
              "            title=\"Suggest charts\"\n",
              "            style=\"display:none;\">\n",
              "\n",
              "<svg xmlns=\"http://www.w3.org/2000/svg\" height=\"24px\"viewBox=\"0 0 24 24\"\n",
              "     width=\"24px\">\n",
              "    <g>\n",
              "        <path d=\"M19 3H5c-1.1 0-2 .9-2 2v14c0 1.1.9 2 2 2h14c1.1 0 2-.9 2-2V5c0-1.1-.9-2-2-2zM9 17H7v-7h2v7zm4 0h-2V7h2v10zm4 0h-2v-4h2v4z\"/>\n",
              "    </g>\n",
              "</svg>\n",
              "  </button>\n",
              "\n",
              "<style>\n",
              "  .colab-df-quickchart {\n",
              "      --bg-color: #E8F0FE;\n",
              "      --fill-color: #1967D2;\n",
              "      --hover-bg-color: #E2EBFA;\n",
              "      --hover-fill-color: #174EA6;\n",
              "      --disabled-fill-color: #AAA;\n",
              "      --disabled-bg-color: #DDD;\n",
              "  }\n",
              "\n",
              "  [theme=dark] .colab-df-quickchart {\n",
              "      --bg-color: #3B4455;\n",
              "      --fill-color: #D2E3FC;\n",
              "      --hover-bg-color: #434B5C;\n",
              "      --hover-fill-color: #FFFFFF;\n",
              "      --disabled-bg-color: #3B4455;\n",
              "      --disabled-fill-color: #666;\n",
              "  }\n",
              "\n",
              "  .colab-df-quickchart {\n",
              "    background-color: var(--bg-color);\n",
              "    border: none;\n",
              "    border-radius: 50%;\n",
              "    cursor: pointer;\n",
              "    display: none;\n",
              "    fill: var(--fill-color);\n",
              "    height: 32px;\n",
              "    padding: 0;\n",
              "    width: 32px;\n",
              "  }\n",
              "\n",
              "  .colab-df-quickchart:hover {\n",
              "    background-color: var(--hover-bg-color);\n",
              "    box-shadow: 0 1px 2px rgba(60, 64, 67, 0.3), 0 1px 3px 1px rgba(60, 64, 67, 0.15);\n",
              "    fill: var(--button-hover-fill-color);\n",
              "  }\n",
              "\n",
              "  .colab-df-quickchart-complete:disabled,\n",
              "  .colab-df-quickchart-complete:disabled:hover {\n",
              "    background-color: var(--disabled-bg-color);\n",
              "    fill: var(--disabled-fill-color);\n",
              "    box-shadow: none;\n",
              "  }\n",
              "\n",
              "  .colab-df-spinner {\n",
              "    border: 2px solid var(--fill-color);\n",
              "    border-color: transparent;\n",
              "    border-bottom-color: var(--fill-color);\n",
              "    animation:\n",
              "      spin 1s steps(1) infinite;\n",
              "  }\n",
              "\n",
              "  @keyframes spin {\n",
              "    0% {\n",
              "      border-color: transparent;\n",
              "      border-bottom-color: var(--fill-color);\n",
              "      border-left-color: var(--fill-color);\n",
              "    }\n",
              "    20% {\n",
              "      border-color: transparent;\n",
              "      border-left-color: var(--fill-color);\n",
              "      border-top-color: var(--fill-color);\n",
              "    }\n",
              "    30% {\n",
              "      border-color: transparent;\n",
              "      border-left-color: var(--fill-color);\n",
              "      border-top-color: var(--fill-color);\n",
              "      border-right-color: var(--fill-color);\n",
              "    }\n",
              "    40% {\n",
              "      border-color: transparent;\n",
              "      border-right-color: var(--fill-color);\n",
              "      border-top-color: var(--fill-color);\n",
              "    }\n",
              "    60% {\n",
              "      border-color: transparent;\n",
              "      border-right-color: var(--fill-color);\n",
              "    }\n",
              "    80% {\n",
              "      border-color: transparent;\n",
              "      border-right-color: var(--fill-color);\n",
              "      border-bottom-color: var(--fill-color);\n",
              "    }\n",
              "    90% {\n",
              "      border-color: transparent;\n",
              "      border-bottom-color: var(--fill-color);\n",
              "    }\n",
              "  }\n",
              "</style>\n",
              "\n",
              "  <script>\n",
              "    async function quickchart(key) {\n",
              "      const quickchartButtonEl =\n",
              "        document.querySelector('#' + key + ' button');\n",
              "      quickchartButtonEl.disabled = true;  // To prevent multiple clicks.\n",
              "      quickchartButtonEl.classList.add('colab-df-spinner');\n",
              "      try {\n",
              "        const charts = await google.colab.kernel.invokeFunction(\n",
              "            'suggestCharts', [key], {});\n",
              "      } catch (error) {\n",
              "        console.error('Error during call to suggestCharts:', error);\n",
              "      }\n",
              "      quickchartButtonEl.classList.remove('colab-df-spinner');\n",
              "      quickchartButtonEl.classList.add('colab-df-quickchart-complete');\n",
              "    }\n",
              "    (() => {\n",
              "      let quickchartButtonEl =\n",
              "        document.querySelector('#df-d3d46dd4-e5f9-493e-8239-02d314d99d78 button');\n",
              "      quickchartButtonEl.style.display =\n",
              "        google.colab.kernel.accessAllowed ? 'block' : 'none';\n",
              "    })();\n",
              "  </script>\n",
              "</div>\n",
              "    </div>\n",
              "  </div>\n"
            ]
          },
          "metadata": {},
          "execution_count": 142
        }
      ]
    },
    {
      "cell_type": "code",
      "source": [
        "optionInfoAmznStrikes = compute_american_prices_per_strike('AMZN', '2024-03-15')"
      ],
      "metadata": {
        "id": "Wh45lzg8bl69"
      },
      "execution_count": null,
      "outputs": []
    },
    {
      "cell_type": "code",
      "source": [
        "optionInfoSPXStrikes = compute_european_prices_per_strike('^SPX', '2024-03-15')"
      ],
      "metadata": {
        "id": "MOM66NXVdH-G"
      },
      "execution_count": null,
      "outputs": []
    },
    {
      "cell_type": "code",
      "source": [
        "strikes = [tp[1] for tp in optionInfoAmznStrikes]\n",
        "lastPrice = [tp[2] for tp in optionInfoAmznStrikes]\n",
        "simulationPrice = [tp[3] for tp in optionInfoAmznStrikes]\n",
        "error = [abs(tp[2]-tp[3]) for tp in optionInfoAmznStrikes]"
      ],
      "metadata": {
        "id": "CKNh6X5sdPi1"
      },
      "execution_count": null,
      "outputs": []
    },
    {
      "cell_type": "code",
      "source": [
        "amzn_strikes_data = pd.DataFrame(\n",
        "    {'strikes': strikes,\n",
        "     'lastPrice': lastPrice,\n",
        "     'simulationPrice': simulationPrice,\n",
        "     'abs_error': error\n",
        "    });"
      ],
      "metadata": {
        "id": "WhXq9og7dUJk"
      },
      "execution_count": null,
      "outputs": []
    },
    {
      "cell_type": "code",
      "source": [
        "amzn_strikes_data.plot.line(x='strikes',rot=90)"
      ],
      "metadata": {
        "colab": {
          "base_uri": "https://localhost:8080/",
          "height": 483
        },
        "id": "f9dOWOBRfxrU",
        "outputId": "911bb17e-73db-40a6-d49b-351ea4aed438"
      },
      "execution_count": null,
      "outputs": [
        {
          "output_type": "execute_result",
          "data": {
            "text/plain": [
              "<Axes: xlabel='strikes'>"
            ]
          },
          "metadata": {},
          "execution_count": 17
        },
        {
          "output_type": "display_data",
          "data": {
            "text/plain": [
              "<Figure size 640x480 with 1 Axes>"
            ],
            "image/png": "[encoded data removed]"
          },
          "metadata": {}
        }
      ]
    },
    {
      "cell_type": "code",
      "source": [
        "strikes = [tp[1] for tp in optionInfoSPXStrikes]\n",
        "lastPrice = [tp[2] for tp in optionInfoSPXStrikes]\n",
        "simulationPrice = [tp[3] for tp in optionInfoSPXStrikes]\n",
        "error = [abs(tp[2]-tp[3]) for tp in optionInfoSPXStrikes]"
      ],
      "metadata": {
        "id": "wYPwM2EKf-i5"
      },
      "execution_count": null,
      "outputs": []
    },
    {
      "cell_type": "code",
      "source": [
        "np.mean(error)"
      ],
      "metadata": {
        "colab": {
          "base_uri": "https://localhost:8080/"
        },
        "id": "qIN1D_VehUGy",
        "outputId": "40eac1ef-8eb5-4d7e-e9e6-722e94cd4fbe"
      },
      "execution_count": null,
      "outputs": [
        {
          "output_type": "execute_result",
          "data": {
            "text/plain": [
              "18.09646188838165"
            ]
          },
          "metadata": {},
          "execution_count": 19
        }
      ]
    },
    {
      "cell_type": "code",
      "source": [
        "spx_strikes_data = pd.DataFrame(\n",
        "    {'strikes': strikes,\n",
        "     'lastPrice': lastPrice,\n",
        "     'simulationPrice': simulationPrice,\n",
        "     'abs_error': error\n",
        "    });"
      ],
      "metadata": {
        "id": "SX4hvYyxgLBh"
      },
      "execution_count": null,
      "outputs": []
    },
    {
      "cell_type": "code",
      "source": [
        "spx_strikes_data.plot.line(x='strikes',rot=90)"
      ],
      "metadata": {
        "colab": {
          "base_uri": "https://localhost:8080/",
          "height": 489
        },
        "id": "yv0-0viUgNXw",
        "outputId": "b3e0a0ad-abea-41af-b7b6-edee5d80a765"
      },
      "execution_count": null,
      "outputs": [
        {
          "output_type": "execute_result",
          "data": {
            "text/plain": [
              "<Axes: xlabel='strikes'>"
            ]
          },
          "metadata": {},
          "execution_count": 22
        },
        {
          "output_type": "display_data",
          "data": {
            "text/plain": [
              "<Figure size 640x480 with 1 Axes>"
            ],
            "image/png": "[encoded data removed]"
          },
          "metadata": {}
        }
      ]
    },
    {
      "cell_type": "code",
      "source": [],
      "metadata": {
        "id": "hpcoL57IAXEO"
      },
      "execution_count": null,
      "outputs": []
    },
    {
      "cell_type": "code",
      "source": [],
      "metadata": {
        "id": "u8UWzKRKhdy0"
      },
      "execution_count": null,
      "outputs": []
    }
  ]
}